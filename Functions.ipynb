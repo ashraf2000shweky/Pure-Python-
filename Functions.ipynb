{
 "cells": [
  {
   "cell_type": "code",
   "execution_count": null,
   "id": "d2493fcc",
   "metadata": {},
   "outputs": [],
   "source": [
    "# exercise 1:kilometor convertor function\n",
    "def Kilometors_To_Miles(kilometor):\n",
    "    return kilometor * 0.6214\n",
    "\n",
    "def main():\n",
    "    print('this driver program test the Kilometors_To_Miles() function.\\n')\n",
    "    Kilometors = float(input('enter a distance in kilometors: '))\n",
    "    print()\n",
    "    print(Kilometors,'Kilometors = ', \n",
    "          format(Kilometors_To_Miles(Kilometors),'0.5f'),'miles')\n",
    "\n",
    "# end method"
   ]
  },
  {
   "cell_type": "code",
   "execution_count": null,
   "id": "0a9803e9",
   "metadata": {},
   "outputs": [],
   "source": [
    "main()"
   ]
  },
  {
   "cell_type": "code",
   "execution_count": null,
   "id": "c0e000bb",
   "metadata": {},
   "outputs": [],
   "source": []
  },
  {
   "cell_type": "code",
   "execution_count": null,
   "id": "65389d65",
   "metadata": {},
   "outputs": [],
   "source": [
    "# exercise 2: isprime function\n",
    "def Is_Prime(value):\n",
    "    if value < 2:\n",
    "        return False\n",
    "    else:\n",
    "        for count in range(2,value):\n",
    "            if value % count == 0:\n",
    "                return False\n",
    "        return True\n",
    "        \n",
    "# end method"
   ]
  },
  {
   "cell_type": "code",
   "execution_count": null,
   "id": "c05bbc59",
   "metadata": {},
   "outputs": [],
   "source": [
    "Is_Prime(2092919)"
   ]
  },
  {
   "cell_type": "code",
   "execution_count": null,
   "id": "d20c6130",
   "metadata": {},
   "outputs": [],
   "source": []
  },
  {
   "cell_type": "code",
   "execution_count": null,
   "id": "fb100a74",
   "metadata": {},
   "outputs": [],
   "source": [
    "# exercise 3: prime number listing function\n",
    "def main_list():  \n",
    "    print('this program outputs a list of prime number.')   \n",
    "    start_range = int(input('start range: '))\n",
    "    end_range = int(input('end range: '))\n",
    "    while end_range < start_range:\n",
    "         print('the end range must be less than start range  ')\n",
    "         start_range = int(input('start range: '))\n",
    "         end_range = int(input('end range: '))\n",
    "    total_prime = 0\n",
    "    for count in range(start_range,end_range+1):\n",
    "        if Is_Prime(count):\n",
    "            total_prime +=1\n",
    "            print(total_prime,'.\\t',count,sep='')\n",
    "    print('\\t','there are',total_prime,'prime number between',start_range,'and',end_range)\n",
    "# end method"
   ]
  },
  {
   "cell_type": "code",
   "execution_count": null,
   "id": "0015ca84",
   "metadata": {
    "scrolled": true
   },
   "outputs": [],
   "source": [
    "main_list()"
   ]
  },
  {
   "cell_type": "code",
   "execution_count": null,
   "id": "bc3d87f5",
   "metadata": {},
   "outputs": [],
   "source": []
  },
  {
   "cell_type": "code",
   "execution_count": null,
   "id": "c933a250",
   "metadata": {},
   "outputs": [],
   "source": [
    "# exercise 4: max function\n",
    "def max_of_two(x,y):\n",
    "    if x > y:\n",
    "        return x\n",
    "    return y\n",
    "def max_of_three(x,y,z):\n",
    "    return max_of_two(x,max_of_two(y,z))\n",
    "# end method   "
   ]
  },
  {
   "cell_type": "code",
   "execution_count": null,
   "id": "5a73a35d",
   "metadata": {},
   "outputs": [],
   "source": [
    "max_of_three(10,100,100)"
   ]
  },
  {
   "cell_type": "code",
   "execution_count": null,
   "id": "1192b0dc",
   "metadata": {},
   "outputs": [],
   "source": []
  },
  {
   "cell_type": "code",
   "execution_count": null,
   "id": "92048e35",
   "metadata": {},
   "outputs": [],
   "source": [
    "# exercise 5: multiply function\n",
    "def multiply(numbers):\n",
    "    total = 1\n",
    "    for x in numbers:\n",
    "        total *=x\n",
    "    return total\n",
    "# end method"
   ]
  },
  {
   "cell_type": "code",
   "execution_count": null,
   "id": "e8bbdfc2",
   "metadata": {},
   "outputs": [],
   "source": [
    "multiply([1,2,3,4,4])"
   ]
  },
  {
   "cell_type": "code",
   "execution_count": null,
   "id": "cbe3b5bd",
   "metadata": {},
   "outputs": [],
   "source": []
  },
  {
   "cell_type": "code",
   "execution_count": null,
   "id": "e59b997b",
   "metadata": {},
   "outputs": [],
   "source": [
    "# exercise 6: case_counter function\n",
    "def case_counter(s):\n",
    "    d = {'UPPER_CASE':0,'LOWER_CASE':0}\n",
    "    for c in s:\n",
    "        if c.isupper():\n",
    "            d['UPPER_CASE'] +=1\n",
    "        elif c.islower():\n",
    "            d['LOWER_CASE'] +=1\n",
    "        else:\n",
    "            pass \n",
    "    print('uppercase characters',d['UPPER_CASE'])\n",
    "    print('lowercase characters',d['LOWER_CASE'])\n",
    "# end method "
   ]
  },
  {
   "cell_type": "code",
   "execution_count": null,
   "id": "59c5dca1",
   "metadata": {},
   "outputs": [],
   "source": [
    "case_counter('Ashraf_Shweky')"
   ]
  },
  {
   "cell_type": "code",
   "execution_count": null,
   "id": "84b38363",
   "metadata": {},
   "outputs": [],
   "source": []
  },
  {
   "cell_type": "code",
   "execution_count": null,
   "id": "246f0b52",
   "metadata": {},
   "outputs": [],
   "source": [
    "# exercise 7:  duplicate_eliminator function\n",
    "def duplicate_eliminator(d):\n",
    "    return set(d)\n",
    "# end method "
   ]
  },
  {
   "cell_type": "code",
   "execution_count": null,
   "id": "35c537ec",
   "metadata": {},
   "outputs": [],
   "source": [
    "duplicate_eliminator((11,2,3,3,33,2,1,2,1,1))"
   ]
  },
  {
   "cell_type": "code",
   "execution_count": null,
   "id": "81748262",
   "metadata": {},
   "outputs": [],
   "source": []
  },
  {
   "cell_type": "code",
   "execution_count": null,
   "id": "766cb75a",
   "metadata": {},
   "outputs": [],
   "source": [
    "# exercise 8:  duplicate_eliminator function\n",
    "def duplicate_eliminator(thelist):\n",
    "    i = 0\n",
    "    while i < len(thelist):\n",
    "        thelist[i] = thelist[i] **2\n",
    "        i += 1\n",
    "    return thelist\n",
    "# end method"
   ]
  },
  {
   "cell_type": "code",
   "execution_count": null,
   "id": "cbe02c88",
   "metadata": {},
   "outputs": [],
   "source": [
    "duplicate_eliminator([1,2,3,2,1,4,5,6,6,7])"
   ]
  },
  {
   "cell_type": "code",
   "execution_count": null,
   "id": "5d4ded89",
   "metadata": {},
   "outputs": [],
   "source": [
    "# exercise 9:  dict_decomposer function\n",
    "def dict_decomposer(thedict):\n",
    "    print('the keys of dictionary are',list(thedict.keys()))\n",
    "    print('the values of dictionary are',list(thedict.values()))\n",
    "    "
   ]
  },
  {
   "cell_type": "code",
   "execution_count": null,
   "id": "ef358bc6",
   "metadata": {},
   "outputs": [],
   "source": [
    "dict_1 = {\n",
    "    'First_Name': 'data',\n",
    "    'Last_Name' : 'science' \n",
    "}\n",
    "# end method"
   ]
  },
  {
   "cell_type": "code",
   "execution_count": null,
   "id": "95c3b1bb",
   "metadata": {},
   "outputs": [],
   "source": [
    "dict_decomposer(dict_1)"
   ]
  },
  {
   "cell_type": "code",
   "execution_count": null,
   "id": "78e79a0b",
   "metadata": {},
   "outputs": [],
   "source": []
  },
  {
   "cell_type": "code",
   "execution_count": 2,
   "id": "69d018b0",
   "metadata": {},
   "outputs": [
    {
     "name": "stdout",
     "output_type": "stream",
     "text": [
      "enter_the_first_number = r\n"
     ]
    },
    {
     "ename": "NameError",
     "evalue": "name 'r' is not defined",
     "output_type": "error",
     "traceback": [
      "\u001b[1;31m---------------------------------------------------------------------------\u001b[0m",
      "\u001b[1;31mNameError\u001b[0m                                 Traceback (most recent call last)",
      "Cell \u001b[1;32mIn [2], line 11\u001b[0m\n\u001b[0;32m      8\u001b[0m \u001b[38;5;28;01mdef\u001b[39;00m \u001b[38;5;21mdivide\u001b[39m(x,y):\n\u001b[0;32m      9\u001b[0m     \u001b[38;5;28;01mreturn\u001b[39;00m(x\u001b[38;5;241m/\u001b[39my)\n\u001b[1;32m---> 11\u001b[0m num1 \u001b[38;5;241m=\u001b[39m \u001b[38;5;28;43meval\u001b[39;49m\u001b[43m(\u001b[49m\u001b[38;5;28;43minput\u001b[39;49m\u001b[43m(\u001b[49m\u001b[38;5;124;43m'\u001b[39;49m\u001b[38;5;124;43menter_the_first_number = \u001b[39;49m\u001b[38;5;124;43m'\u001b[39;49m\u001b[43m)\u001b[49m\u001b[43m)\u001b[49m    \n\u001b[0;32m     12\u001b[0m num2 \u001b[38;5;241m=\u001b[39m \u001b[38;5;28meval\u001b[39m(\u001b[38;5;28minput\u001b[39m(\u001b[38;5;124m'\u001b[39m\u001b[38;5;124menter_the_second_number = \u001b[39m\u001b[38;5;124m'\u001b[39m))  \n\u001b[0;32m     14\u001b[0m \u001b[38;5;28;01mwhile\u001b[39;00m(\u001b[38;5;28;01mTrue\u001b[39;00m):\n",
      "File \u001b[1;32m<string>:1\u001b[0m\n",
      "\u001b[1;31mNameError\u001b[0m: name 'r' is not defined"
     ]
    }
   ],
   "source": [
    "# exercise 10 :  a simple calculator  function\n",
    "def add(x,y):\n",
    "    return(x+y)\n",
    "def subtract(x,y):\n",
    "    return(x-y)\n",
    "def multiply(x,y):\n",
    "    return(x*y)\n",
    "def divide(x,y):\n",
    "    return(x/y)\n",
    "\n",
    "while\n",
    "num1 = eval(input('enter_the_first_number = '))    \n",
    "num2 = eval(input('enter_the_second_number = '))  \n",
    "\n",
    "while(True):\n",
    "      choice = int(input('enter_the_operation from (1,+),(2,-),(3,*),(4,/),(5,exit)\\t'))\n",
    "      if choice in (1,2,3,4,5):\n",
    "            if choice == 1:\n",
    "                print(num1,'+',num2,'=',add(num1,num2))\n",
    "            elif choice == 2:\n",
    "                print(num1,'-',num2,'=',subtract(num1,num2))\n",
    "            elif choice == 3:\n",
    "                print(num1,'*',num2,'=',multiply(num1,num2))\n",
    "            elif choice == 4:\n",
    "                print(num1,'/',num2,'=',divide(num1,num2))\n",
    "            elif choice ==5:\n",
    "                print('thank_you')\n",
    "                break\n",
    "                \n",
    "      else:\n",
    "            print('invalid choice try again')\n",
    "# end method"
   ]
  },
  {
   "cell_type": "code",
   "execution_count": null,
   "id": "37b74eda",
   "metadata": {},
   "outputs": [],
   "source": [
    "\n"
   ]
  },
  {
   "cell_type": "code",
   "execution_count": null,
   "id": "f35777f2",
   "metadata": {},
   "outputs": [],
   "source": []
  }
 ],
 "metadata": {
  "kernelspec": {
   "display_name": "Python 3 (ipykernel)",
   "language": "python",
   "name": "python3"
  },
  "language_info": {
   "codemirror_mode": {
    "name": "ipython",
    "version": 3
   },
   "file_extension": ".py",
   "mimetype": "text/x-python",
   "name": "python",
   "nbconvert_exporter": "python",
   "pygments_lexer": "ipython3",
   "version": "3.9.12"
  }
 },
 "nbformat": 4,
 "nbformat_minor": 5
}
