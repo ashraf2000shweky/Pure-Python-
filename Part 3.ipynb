{
 "cells": [
  {
   "cell_type": "code",
   "execution_count": 1,
   "id": "a6d8424a",
   "metadata": {},
   "outputs": [],
   "source": [
    "prices = [{'Apple',1000},{'Orange',2000},{'Grape',1000}]"
   ]
  },
  {
   "cell_type": "code",
   "execution_count": 2,
   "id": "e8688f4a",
   "metadata": {},
   "outputs": [
    {
     "name": "stdout",
     "output_type": "stream",
     "text": [
      "{'Apple', 1000}\n",
      "{2000, 'Orange'}\n",
      "{1000, 'Grape'}\n"
     ]
    }
   ],
   "source": [
    "for x in prices:\n",
    "    print(x)"
   ]
  },
  {
   "cell_type": "code",
   "execution_count": 3,
   "id": "1c15b953",
   "metadata": {},
   "outputs": [
    {
     "name": "stdout",
     "output_type": "stream",
     "text": [
      "Apple\n",
      "2000\n",
      "1000\n"
     ]
    }
   ],
   "source": [
    "for name, price in prices:\n",
    "    print(name)"
   ]
  },
  {
   "cell_type": "code",
   "execution_count": 4,
   "id": "52f0e20d",
   "metadata": {},
   "outputs": [],
   "source": [
    "working_hours = [('Faris',100),('Ahmed',200),('Amal',300)]"
   ]
  },
  {
   "cell_type": "code",
   "execution_count": 5,
   "id": "007a0b86",
   "metadata": {},
   "outputs": [],
   "source": [
    "def best_emp(myinfo):\n",
    "    best_emp = ''\n",
    "    best_hours = 0\n",
    "    for emp,hour in myinfo:\n",
    "        if hour > best_hours:\n",
    "            best_hours = hour\n",
    "            best_emp = emp\n",
    "    return((best_emp,best_hours))\n"
   ]
  },
  {
   "cell_type": "code",
   "execution_count": 6,
   "id": "d05b7343",
   "metadata": {},
   "outputs": [
    {
     "data": {
      "text/plain": [
       "('Amal', 300)"
      ]
     },
     "execution_count": 6,
     "metadata": {},
     "output_type": "execute_result"
    }
   ],
   "source": [
    "best_emp(working_hours)"
   ]
  },
  {
   "cell_type": "code",
   "execution_count": 7,
   "id": "30011a2f",
   "metadata": {},
   "outputs": [
    {
     "data": {
      "text/plain": [
       "'Amal'"
      ]
     },
     "execution_count": 7,
     "metadata": {},
     "output_type": "execute_result"
    }
   ],
   "source": [
    "name, hours = best_emp(working_hours)\n",
    "name"
   ]
  },
  {
   "cell_type": "code",
   "execution_count": 8,
   "id": "b12a8e93",
   "metadata": {},
   "outputs": [],
   "source": [
    "A = ['Apple','Banan','Orange']"
   ]
  },
  {
   "cell_type": "code",
   "execution_count": 9,
   "id": "c173ca0b",
   "metadata": {},
   "outputs": [
    {
     "data": {
      "text/plain": [
       "[(0, 'Apple'), (1, 'Banan'), (2, 'Orange')]"
      ]
     },
     "execution_count": 9,
     "metadata": {},
     "output_type": "execute_result"
    }
   ],
   "source": [
    "list(enumerate(A))"
   ]
  },
  {
   "cell_type": "code",
   "execution_count": 10,
   "id": "2eb9b87d",
   "metadata": {},
   "outputs": [
    {
     "data": {
      "text/plain": [
       "((0, 'Apple'), (1, 'Banan'), (2, 'Orange'))"
      ]
     },
     "execution_count": 10,
     "metadata": {},
     "output_type": "execute_result"
    }
   ],
   "source": [
    "tuple(enumerate(A))"
   ]
  },
  {
   "cell_type": "code",
   "execution_count": 11,
   "id": "9e47e887",
   "metadata": {},
   "outputs": [
    {
     "data": {
      "text/plain": [
       "{(0, 'Apple'), (1, 'Banan'), (2, 'Orange')}"
      ]
     },
     "execution_count": 11,
     "metadata": {},
     "output_type": "execute_result"
    }
   ],
   "source": [
    "set(enumerate(A))"
   ]
  },
  {
   "cell_type": "code",
   "execution_count": 12,
   "id": "8233f55c",
   "metadata": {},
   "outputs": [
    {
     "data": {
      "text/plain": [
       "{0: 'Apple', 1: 'Banan', 2: 'Orange'}"
      ]
     },
     "execution_count": 12,
     "metadata": {},
     "output_type": "execute_result"
    }
   ],
   "source": [
    "dict(enumerate(A))"
   ]
  },
  {
   "cell_type": "code",
   "execution_count": 13,
   "id": "6b02f5a6",
   "metadata": {},
   "outputs": [],
   "source": [
    "D = {10:'Apple',202:'banan',303:'Orange'}"
   ]
  },
  {
   "cell_type": "code",
   "execution_count": 14,
   "id": "3854df2f",
   "metadata": {},
   "outputs": [
    {
     "data": {
      "text/plain": [
       "[(0, 10), (1, 202), (2, 303)]"
      ]
     },
     "execution_count": 14,
     "metadata": {},
     "output_type": "execute_result"
    }
   ],
   "source": [
    "list(enumerate(D))"
   ]
  },
  {
   "cell_type": "code",
   "execution_count": 15,
   "id": "7ea8c292",
   "metadata": {},
   "outputs": [],
   "source": [
    "X = 'Python'"
   ]
  },
  {
   "cell_type": "code",
   "execution_count": 16,
   "id": "0210c163",
   "metadata": {},
   "outputs": [
    {
     "data": {
      "text/plain": [
       "[(0, 'P'), (1, 'y'), (2, 't'), (3, 'h'), (4, 'o'), (5, 'n')]"
      ]
     },
     "execution_count": 16,
     "metadata": {},
     "output_type": "execute_result"
    }
   ],
   "source": [
    "list(enumerate(X))"
   ]
  },
  {
   "cell_type": "code",
   "execution_count": 17,
   "id": "0f8eb536",
   "metadata": {},
   "outputs": [],
   "source": [
    "N = [1,2,3,4]\n",
    "F = ['Apple','Banan','Orange','Graph']"
   ]
  },
  {
   "cell_type": "code",
   "execution_count": 18,
   "id": "ff0cd83d",
   "metadata": {},
   "outputs": [
    {
     "data": {
      "text/plain": [
       "[(1, 'Apple'), (2, 'Banan'), (3, 'Orange'), (4, 'Graph')]"
      ]
     },
     "execution_count": 18,
     "metadata": {},
     "output_type": "execute_result"
    }
   ],
   "source": [
    "x = list(zip(N, F))\n",
    "x"
   ]
  },
  {
   "cell_type": "code",
   "execution_count": 19,
   "id": "6c0b6c37",
   "metadata": {},
   "outputs": [
    {
     "data": {
      "text/plain": [
       "list"
      ]
     },
     "execution_count": 19,
     "metadata": {},
     "output_type": "execute_result"
    }
   ],
   "source": [
    "type(x)"
   ]
  },
  {
   "cell_type": "code",
   "execution_count": 20,
   "id": "04429d0c",
   "metadata": {},
   "outputs": [],
   "source": [
    "N ,F = zip(*x)"
   ]
  },
  {
   "cell_type": "code",
   "execution_count": 21,
   "id": "91bca7c7",
   "metadata": {},
   "outputs": [
    {
     "data": {
      "text/plain": [
       "(1, 2, 3, 4)"
      ]
     },
     "execution_count": 21,
     "metadata": {},
     "output_type": "execute_result"
    }
   ],
   "source": [
    "N"
   ]
  },
  {
   "cell_type": "code",
   "execution_count": 37,
   "id": "d0d1de40",
   "metadata": {},
   "outputs": [
    {
     "name": "stdout",
     "output_type": "stream",
     "text": [
      "0 P\n",
      "1 y\n",
      "2 t\n",
      "3 h\n",
      "4 o\n",
      "5 n\n"
     ]
    }
   ],
   "source": [
    "for i in list(enumerate(X)):\n",
    "    print (i[0],i[1])\n",
    "    "
   ]
  },
  {
   "cell_type": "code",
   "execution_count": 24,
   "id": "4c0724f4",
   "metadata": {},
   "outputs": [
    {
     "name": "stdout",
     "output_type": "stream",
     "text": [
      "1\n",
      "2\n",
      "3\n",
      "4\n"
     ]
    }
   ],
   "source": [
    "for i in list(zip(N, F)):\n",
    "    print(i[0])"
   ]
  },
  {
   "cell_type": "code",
   "execution_count": 25,
   "id": "67bbec14",
   "metadata": {},
   "outputs": [
    {
     "name": "stdout",
     "output_type": "stream",
     "text": [
      "Apple\n",
      "Banan\n",
      "Orange\n",
      "Graph\n"
     ]
    }
   ],
   "source": [
    "for i in list(zip(N, F)):\n",
    "    print(i[1])"
   ]
  },
  {
   "cell_type": "code",
   "execution_count": 26,
   "id": "e0b9909e",
   "metadata": {},
   "outputs": [
    {
     "data": {
      "text/plain": [
       "[((0, 'P'),), ((1, 'y'),), ((2, 't'),), ((3, 'h'),), ((4, 'o'),), ((5, 'n'),)]"
      ]
     },
     "execution_count": 26,
     "metadata": {},
     "output_type": "execute_result"
    }
   ],
   "source": [
    "list(zip(enumerate(X)))"
   ]
  },
  {
   "cell_type": "code",
   "execution_count": 27,
   "id": "512a8bb4",
   "metadata": {},
   "outputs": [
    {
     "data": {
      "text/plain": [
       "[(0, (1, 'Apple')), (1, (2, 'Banan')), (2, (3, 'Orange')), (3, (4, 'Graph'))]"
      ]
     },
     "execution_count": 27,
     "metadata": {},
     "output_type": "execute_result"
    }
   ],
   "source": [
    "list(enumerate(zip(N, F)))"
   ]
  },
  {
   "cell_type": "code",
   "execution_count": 28,
   "id": "52f5beac",
   "metadata": {},
   "outputs": [
    {
     "name": "stdout",
     "output_type": "stream",
     "text": [
      "(0, 'P')\n",
      "(1, 'y')\n",
      "(2, 't')\n",
      "(3, 'h')\n",
      "(4, 'o')\n",
      "(5, 'n')\n"
     ]
    }
   ],
   "source": [
    "for i in list(zip(enumerate(X))):\n",
    "    print(i[0])"
   ]
  },
  {
   "cell_type": "code",
   "execution_count": 29,
   "id": "46aceda3",
   "metadata": {},
   "outputs": [
    {
     "name": "stdout",
     "output_type": "stream",
     "text": [
      "0\n",
      "1\n",
      "2\n",
      "3\n",
      "4\n",
      "5\n"
     ]
    }
   ],
   "source": [
    "for i in list(zip(enumerate(X))):\n",
    "    print(i[0][0])"
   ]
  },
  {
   "cell_type": "code",
   "execution_count": 30,
   "id": "d0d417bb",
   "metadata": {},
   "outputs": [
    {
     "name": "stdout",
     "output_type": "stream",
     "text": [
      "P\n",
      "y\n",
      "t\n",
      "h\n",
      "o\n",
      "n\n"
     ]
    }
   ],
   "source": [
    "for i in list(zip(enumerate(X))):\n",
    "    print(i[0][1])"
   ]
  },
  {
   "cell_type": "code",
   "execution_count": 31,
   "id": "8f39d610",
   "metadata": {},
   "outputs": [
    {
     "name": "stdout",
     "output_type": "stream",
     "text": [
      "0\n",
      "1\n",
      "2\n",
      "3\n"
     ]
    }
   ],
   "source": [
    "for i in list(enumerate(zip(N, F))):\n",
    "    print(i[0])"
   ]
  },
  {
   "cell_type": "code",
   "execution_count": 32,
   "id": "e4bd262a",
   "metadata": {},
   "outputs": [
    {
     "name": "stdout",
     "output_type": "stream",
     "text": [
      "(1, 'Apple')\n",
      "(2, 'Banan')\n",
      "(3, 'Orange')\n",
      "(4, 'Graph')\n"
     ]
    }
   ],
   "source": [
    "for i in list(enumerate(zip(N, F))):\n",
    "    print(i[1])"
   ]
  },
  {
   "cell_type": "code",
   "execution_count": 33,
   "id": "4d8899a7",
   "metadata": {},
   "outputs": [
    {
     "name": "stdout",
     "output_type": "stream",
     "text": [
      "1\n",
      "2\n",
      "3\n",
      "4\n"
     ]
    }
   ],
   "source": [
    "for i in list(enumerate(zip(N, F))):\n",
    "    print(i[1][0])"
   ]
  },
  {
   "cell_type": "code",
   "execution_count": 34,
   "id": "69be6c21",
   "metadata": {},
   "outputs": [
    {
     "name": "stdout",
     "output_type": "stream",
     "text": [
      "Apple\n",
      "Banan\n",
      "Orange\n",
      "Graph\n"
     ]
    }
   ],
   "source": [
    "for i in list(enumerate(zip(N, F))):\n",
    "    print(i[1][1])"
   ]
  },
  {
   "cell_type": "code",
   "execution_count": null,
   "id": "90a6b63a",
   "metadata": {},
   "outputs": [],
   "source": []
  }
 ],
 "metadata": {
  "kernelspec": {
   "display_name": "Python 3 (ipykernel)",
   "language": "python",
   "name": "python3"
  },
  "language_info": {
   "codemirror_mode": {
    "name": "ipython",
    "version": 3
   },
   "file_extension": ".py",
   "mimetype": "text/x-python",
   "name": "python",
   "nbconvert_exporter": "python",
   "pygments_lexer": "ipython3",
   "version": "3.9.12"
  }
 },
 "nbformat": 4,
 "nbformat_minor": 5
}
