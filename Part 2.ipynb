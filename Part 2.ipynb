{
 "cells": [
  {
   "cell_type": "code",
   "execution_count": null,
   "id": "97c7d639",
   "metadata": {},
   "outputs": [],
   "source": [
    "import csv"
   ]
  },
  {
   "cell_type": "code",
   "execution_count": null,
   "id": "85727d8d",
   "metadata": {},
   "outputs": [],
   "source": [
    "data = open('The_Office_lines.csv')\n",
    "csvreader = csv.reader(data)\n",
    "for row in csvreader:\n",
    "    print(row)\n",
    "    break\n",
    "    \n",
    "    \n",
    "data.close()"
   ]
  },
  {
   "cell_type": "code",
   "execution_count": null,
   "id": "12b9d397",
   "metadata": {},
   "outputs": [],
   "source": [
    "data = open('The_Office_lines.csv')\n",
    "csvreader = csv.reader(data)\n",
    "for row in csvreader:\n",
    "    print(row[4])\n",
    "    break\n",
    "    \n",
    "data.close()"
   ]
  },
  {
   "cell_type": "code",
   "execution_count": null,
   "id": "f9adc0f9",
   "metadata": {},
   "outputs": [],
   "source": [
    "data = open('The_Office_lines.csv')\n",
    "csvreader = csv.reader(data)\n",
    "list1 = []\n",
    "for row in csvreader:\n",
    "    list1.append(row[4])\n",
    "    \n",
    "data.close()"
   ]
  },
  {
   "cell_type": "code",
   "execution_count": null,
   "id": "478e6318",
   "metadata": {
    "scrolled": true
   },
   "outputs": [],
   "source": [
    "len(list1)"
   ]
  },
  {
   "cell_type": "code",
   "execution_count": null,
   "id": "b8e4eb2e",
   "metadata": {
    "scrolled": true
   },
   "outputs": [],
   "source": [
    "numbers = []\n",
    "for num in range(100):\n",
    "    numbers.append(num)\n",
    "numbers"
   ]
  },
  {
   "cell_type": "code",
   "execution_count": null,
   "id": "474a7d17",
   "metadata": {
    "scrolled": true
   },
   "outputs": [],
   "source": [
    "x = [number for number in range(100)]\n",
    "x"
   ]
  },
  {
   "cell_type": "code",
   "execution_count": null,
   "id": "e4b5432f",
   "metadata": {
    "scrolled": true
   },
   "outputs": [],
   "source": [
    "numbers = []\n",
    "for num in range(100):\n",
    "    numbers.append(num**2)\n",
    "numbers"
   ]
  },
  {
   "cell_type": "code",
   "execution_count": null,
   "id": "737e14da",
   "metadata": {
    "scrolled": true
   },
   "outputs": [],
   "source": [
    "y= [number**2 for number in range(100)]\n",
    "y"
   ]
  },
  {
   "cell_type": "code",
   "execution_count": null,
   "id": "8375dace",
   "metadata": {
    "scrolled": true
   },
   "outputs": [],
   "source": [
    "tuple((number % 2 for number in range(10)))"
   ]
  },
  {
   "cell_type": "code",
   "execution_count": null,
   "id": "884da435",
   "metadata": {},
   "outputs": [],
   "source": [
    "{number % 2 for number in range(10)}"
   ]
  },
  {
   "cell_type": "code",
   "execution_count": null,
   "id": "c4d98808",
   "metadata": {},
   "outputs": [],
   "source": [
    "{num:num % 2 for num in range(10)}"
   ]
  },
  {
   "cell_type": "code",
   "execution_count": null,
   "id": "13fd2cd0",
   "metadata": {},
   "outputs": [],
   "source": [
    "names = ['ashraf','adam','ayham','ahmed']\n",
    "roles = ['data analysis','monitor quality','pediatrician','account']"
   ]
  },
  {
   "cell_type": "code",
   "execution_count": null,
   "id": "d6d5a556",
   "metadata": {},
   "outputs": [],
   "source": [
    "list(zip(names,roles))"
   ]
  },
  {
   "cell_type": "code",
   "execution_count": null,
   "id": "bdb836bc",
   "metadata": {},
   "outputs": [],
   "source": [
    "{name:role for name,role in zip(names,roles) }"
   ]
  },
  {
   "cell_type": "code",
   "execution_count": null,
   "id": "86648b18",
   "metadata": {
    "scrolled": true
   },
   "outputs": [],
   "source": [
    "numbers = []\n",
    "for num in range(100):\n",
    "    if num %2 ==0:  \n",
    "        numbers.append(num)\n",
    "numbers"
   ]
  },
  {
   "cell_type": "code",
   "execution_count": null,
   "id": "e2a6420b",
   "metadata": {},
   "outputs": [],
   "source": [
    "[number for number in range(100) if number %2 == 0]"
   ]
  },
  {
   "cell_type": "code",
   "execution_count": null,
   "id": "1cfe6878",
   "metadata": {
    "scrolled": true
   },
   "outputs": [],
   "source": [
    "[x for x in range(100) if x%2 == 0 and x%2 == 0 ]"
   ]
  }
 ],
 "metadata": {
  "kernelspec": {
   "display_name": "Python 3 (ipykernel)",
   "language": "python",
   "name": "python3"
  },
  "language_info": {
   "codemirror_mode": {
    "name": "ipython",
    "version": 3
   },
   "file_extension": ".py",
   "mimetype": "text/x-python",
   "name": "python",
   "nbconvert_exporter": "python",
   "pygments_lexer": "ipython3",
   "version": "3.9.12"
  }
 },
 "nbformat": 4,
 "nbformat_minor": 5
}
