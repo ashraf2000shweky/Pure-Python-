{
 "cells": [
  {
   "cell_type": "code",
   "execution_count": 2,
   "id": "935c0b1a",
   "metadata": {},
   "outputs": [],
   "source": [
    "mylist = [1,2,3,4,56,43,5,6,31,3,5,68,9,7,3,1,4,67,9,87,6,4,3,21,2,3,4,56,7,8,99,9,0,7,5,32,5,7]"
   ]
  },
  {
   "cell_type": "code",
   "execution_count": null,
   "id": "156cde17",
   "metadata": {},
   "outputs": [],
   "source": [
    "x = mylist.count(3)"
   ]
  },
  {
   "cell_type": "code",
   "execution_count": null,
   "id": "55a86ab1",
   "metadata": {},
   "outputs": [],
   "source": [
    "y = len(mylist)"
   ]
  },
  {
   "cell_type": "code",
   "execution_count": null,
   "id": "4fbd0892",
   "metadata": {},
   "outputs": [],
   "source": [
    "f\"{ (x / y) * 100} % \""
   ]
  },
  {
   "cell_type": "code",
   "execution_count": null,
   "id": "fcb41573",
   "metadata": {},
   "outputs": [],
   "source": [
    "mydict = {'person_1': 39,'person_2': 25,'person_3': 31,'person_4': 43,'person_5': 24,'person_6': 62,\n",
    "         'person_7': 34,'person_8': 53,'person_9': 40,'person_10': 25,'person_11': 37}"
   ]
  },
  {
   "cell_type": "code",
   "execution_count": null,
   "id": "6889c93a",
   "metadata": {},
   "outputs": [],
   "source": [
    "mydict.keys()"
   ]
  },
  {
   "cell_type": "code",
   "execution_count": null,
   "id": "4de1d771",
   "metadata": {},
   "outputs": [],
   "source": [
    "z = list(mydict.values())\n",
    "s = sum(z)\n",
    "l = len(z)"
   ]
  },
  {
   "cell_type": "code",
   "execution_count": null,
   "id": "49395d89",
   "metadata": {},
   "outputs": [],
   "source": [
    "av = s / l\n",
    "av"
   ]
  },
  {
   "cell_type": "code",
   "execution_count": 3,
   "id": "6c6bfce3",
   "metadata": {},
   "outputs": [
    {
     "name": "stdout",
     "output_type": "stream",
     "text": [
      "Number = 44545\n",
      "number not in the list\n",
      "Number = 43\n"
     ]
    }
   ],
   "source": [
    "number = int(input(\"Number = \"))\n",
    "if number in mylist:\n",
    "    print('number in the list')\n",
    "else:\n",
    "    print ('number not in the list')\n",
    "    number = int(input(\"Number = \"))"
   ]
  },
  {
   "cell_type": "code",
   "execution_count": 5,
   "id": "2932d659",
   "metadata": {},
   "outputs": [
    {
     "name": "stdout",
     "output_type": "stream",
     "text": [
      "Number = 4\n",
      "number in the list\n"
     ]
    }
   ],
   "source": [
    "number = int(input(\"Number = \"))\n",
    "if number not in mylist:\n",
    "    print ('number not in the list')\n",
    "    number = int(input(\"Number = \")) \n",
    "else:\n",
    "   print('number in the list')\n",
    "    \n",
    "    "
   ]
  },
  {
   "cell_type": "code",
   "execution_count": 10,
   "id": "992d732e",
   "metadata": {},
   "outputs": [
    {
     "name": "stdout",
     "output_type": "stream",
     "text": [
      "Number = 43\n",
      "43 is odd\n"
     ]
    }
   ],
   "source": [
    "number = int(input(\"Number = \"))\n",
    "if number not in mylist:\n",
    "    print ('number not in the list')\n",
    "    number = int(input(\"Number = \")) \n",
    "else:\n",
    "    if number == 3 or number == 5 or number == 7:\n",
    "        print(str(number)+ ' is my favorite Number')\n",
    "    elif number % 2 != 0 :\n",
    "        print(number,'is odd')   \n",
    "    else:\n",
    "        print(str(number)+ ' is NOT my favorite Number')\n",
    "    "
   ]
  },
  {
   "cell_type": "code",
   "execution_count": null,
   "id": "2ab9b6f2",
   "metadata": {},
   "outputs": [],
   "source": []
  }
 ],
 "metadata": {
  "kernelspec": {
   "display_name": "Python 3 (ipykernel)",
   "language": "python",
   "name": "python3"
  },
  "language_info": {
   "codemirror_mode": {
    "name": "ipython",
    "version": 3
   },
   "file_extension": ".py",
   "mimetype": "text/x-python",
   "name": "python",
   "nbconvert_exporter": "python",
   "pygments_lexer": "ipython3",
   "version": "3.9.12"
  }
 },
 "nbformat": 4,
 "nbformat_minor": 5
}
